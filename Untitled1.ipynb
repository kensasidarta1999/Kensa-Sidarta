{
  "nbformat": 4,
  "nbformat_minor": 0,
  "metadata": {
    "colab": {
      "name": "Untitled1.ipynb",
      "provenance": [],
      "collapsed_sections": [],
      "authorship_tag": "ABX9TyMyQXzALQa1mqiRnDv/kpet",
      "include_colab_link": true
    },
    "kernelspec": {
      "name": "python3",
      "display_name": "Python 3"
    },
    "language_info": {
      "name": "python"
    }
  },
  "cells": [
    {
      "cell_type": "markdown",
      "metadata": {
        "id": "view-in-github",
        "colab_type": "text"
      },
      "source": [
        "<a href=\"https://colab.research.google.com/github/kensasidarta1999/Kensa-Sidarta/blob/master/Untitled1.ipynb\" target=\"_parent\"><img src=\"https://colab.research.google.com/assets/colab-badge.svg\" alt=\"Open In Colab\"/></a>"
      ]
    },
    {
      "cell_type": "code",
      "metadata": {
        "id": "5t2C0Yv2SYGi"
      },
      "source": [
        "NAMA : KENSA NARENDRAPUTRA WALIY SIDARTA \n",
        "NIM : A11.2017.10307\n",
        "\n",
        "UAS KECERDASAN BUATAN\n",
        "\n",
        "DOSEN : SENDI NOVIANTO"
      ],
      "execution_count": null,
      "outputs": []
    },
    {
      "cell_type": "code",
      "metadata": {
        "id": "P02YhPmWSj0A"
      },
      "source": [
        "import numpy as np"
      ],
      "execution_count": null,
      "outputs": []
    },
    {
      "cell_type": "code",
      "metadata": {
        "id": "08C-rioPS4H6"
      },
      "source": [
        "# a+2b+3c+4d = 30\n",
        "#f(x) = a+2b+3c+4d - 30\n",
        "\n",
        "n = 6\n",
        "pc = 0.2\n",
        "\n",
        "chromosome = np.random.randint(0,30, (n,4))\n",
        "print(\"chromosome : \", chromosome)"
      ],
      "execution_count": null,
      "outputs": []
    },
    {
      "cell_type": "code",
      "metadata": {
        "id": "tn5-lLQsTfsQ"
      },
      "source": [
        "epoch = 0\n",
        "\n",
        "while epoch < 200:\n",
        "\n",
        "  # perhitungan fungsi\n",
        "  object = abs(30 -chromosome[:,0] - 2*chromosome[:,1] - 3*chromosome[:,2] - 4*chromosome[:,3])\n",
        "  print(\"fitness object :\", object)\n",
        "\n",
        "\n"
      ],
      "execution_count": null,
      "outputs": []
    },
    {
      "cell_type": "code",
      "metadata": {
        "id": "3qHQdVldUIHp"
      },
      "source": [
        "#pemilihan kromosom yang cocok\n",
        "\n",
        "fitness = 1/(1+ object)\n",
        "print (\"fitness\", fitness)\n",
        "\n",
        "#menghitung total fungsi fitness\n",
        "jumlah = fitness.sum()\n",
        "print(\"Jumlah : \", jumlah)\n",
        "\n",
        "#menghitung probabilitas buat setiap chromosome\n",
        "probabilitas = fitness/jumlah\n",
        "print(\"probabilitas : \", probabilitas)\n",
        "\n",
        "#menyeleksi menggunakan roulette whel sama menghitung probabilitas kumulatifnya\n",
        "cum_sum = np.cumsum(probabilitas)\n",
        "print(\"kumulatif sum :\", cum_sum)\n",
        "\n",
        "#membaut hasil angka acak sekitar 0-1\n",
        "ran_nums = np.random.random((chromosome.shape[0]))\n",
        "print(\"angka acak : \", ran_nums)\n",
        "\n",
        "# buat matriks kromosom baru buat perhitungan\n",
        "chromosome_2 = np.zeros((chromosome.shape[0],4))\n",
        "\n",
        "for i in range(ran_nums.shape[0]):\n",
        "  for j in range(chromosome.shape[0]):\n",
        "    if ran_nums[i] < cum_sum[j]:\n",
        "      chromosome_2[i,:] = chromosome[j,:]\n",
        "      break\n",
        "\n",
        "chromosome = chromosome_2 \n",
        "print(\"chromsosome setelah diperbarui : \", chromosome)\n",
        "\n",
        "#crossover\n",
        "r = [np.random.random()for i in range(n)]\n",
        "print(\"jumlah acak :\", r)\n",
        "\n",
        "#tingkatan crossover \n",
        "pc = 0.25\n",
        "flag = ran_nums < pc\n",
        "print (\"flag values : \", flag)\n",
        "\n",
        "#mememtukan Chromosome silang\n",
        "cross_chromosome = chromosome[[(i == True) for i in flag]]\n",
        "print(\"cross chromosome :\", cross_chromosome)\n",
        "len_cross_chromosome = len(cross_chromosome)\n",
        "\n",
        "#menghitung nilai silang\n",
        "cross_value = np.random.randint(1,3,len_cross_chromosome)\n",
        "print (\"Cross Value :\", cross_value)\n",
        "\n",
        "cpy_chromosome = np.zeros(cross_chromosome.shape)\n",
        "\n",
        "#melakukan crossover\n",
        "#menyalin nili kromosomnya buat hitungan\n",
        "\n",
        "for i in range(cross_chromosome.shape[0]):\n",
        "  cpy_chromosome[i , :] = cross_chromosome[i , :]\n",
        "\n",
        "if len_cross_chromosome == 1:\n",
        "    cross_chromosome = cross_chromosome\n",
        "else :\n",
        "  for i in range(len_cross_chromosome):\n",
        "    c_val = cross_value[i]\n",
        "    if i == len_cross_chromosome - 1:\n",
        "      cross_chromosome[i , c_val:] = cpy_chromosome[0 , c_val:]\n",
        "    else:\n",
        "      cross_chromosome[i , c_val:] = cpy_chromosome[i+1 , c_val:]\n",
        "\n",
        "print(\"crossovore chromosome :\", cross_chromosome)\n",
        "\n",
        "\n",
        "index_chromosome = 0\n",
        "index_chromosomebaru = 0\n",
        "for i in flag :\n",
        "  if i == True :\n",
        "    chromosome[index_chromosome, :] = cross_chromosome[index_chromosomebaru, :]\n",
        "    index_chromosomebaru = index_chromosomebaru + 1\n",
        "index_chromosome = index_chromosome +1\n",
        "\n",
        "print(\"chromsome baru :\", chromosome)\n",
        "\n",
        "#menghitung total nomor dari generasi\n",
        "a ,b = chromosome.shape[0] , chromosome.shape[1]\n",
        "total_gen =a*b\n",
        "print(\"total generasi :\", total_gen)\n",
        "\n",
        "#membuat tingkatan murasi\n",
        "pm = 0.1\n",
        "no_mutasi = int(np.round(pm * total_gen))\n",
        "print(\"no mutasi :\", no_mutasi)\n",
        "\n",
        "#hitung nomor generasi nya\n",
        "gen_num = np.random.randint(0,total_gen - 1, no_mutasi)\n",
        "print(\"nomor acak generasi : \", gen_num)\n",
        "\n",
        "\n",
        "# menghasilkan nomor acak yg bisa ganti chromosome yang dipilih untuk dimutasi\n",
        "\n",
        "replace_num = np.random.randint(0,30, no_mutasi)\n",
        "print(\" nomor untukk replace :\", replace_num)\n",
        "\n",
        "for i in range(no_mutasi):\n",
        "  a = gen_num[i]\n",
        "  row =  a//4\n",
        "  col =  a%4\n",
        "  chromosome [row , col] = replace_num[i]\n",
        "\n",
        "  print(\" chromosome etelah mutasi :\", chromosome)\n",
        "\n",
        "  epoch = epoch + 1\n",
        "\n",
        "\n",
        "\n"
      ],
      "execution_count": null,
      "outputs": []
    },
    {
      "cell_type": "code",
      "metadata": {
        "id": "p3tZL7RNVHT6"
      },
      "source": [
        ""
      ],
      "execution_count": null,
      "outputs": []
    }
  ]
}